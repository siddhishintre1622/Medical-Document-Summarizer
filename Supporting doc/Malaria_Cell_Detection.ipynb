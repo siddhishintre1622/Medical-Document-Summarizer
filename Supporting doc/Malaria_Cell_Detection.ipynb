{
  "nbformat": 4,
  "nbformat_minor": 0,
  "metadata": {
    "colab": {
      "provenance": []
    },
    "kernelspec": {
      "name": "python3",
      "display_name": "Python 3"
    },
    "accelerator": "GPU"
  },
  "cells": [
    {
      "cell_type": "markdown",
      "metadata": {
        "id": "zq-cdzHww1WW"
      },
      "source": [
        "#**Implemented to Manthan**"
      ]
    },
    {
      "cell_type": "markdown",
      "metadata": {
        "id": "gUd8ySMdWFFQ"
      },
      "source": [
        "#**Collecting Dataset**"
      ]
    },
    {
      "cell_type": "code",
      "metadata": {
        "colab": {
          "base_uri": "https://localhost:8080/"
        },
        "id": "YBiSUVD5WJLm",
        "outputId": "05f220bc-b114-42ab-fb2e-cf036f08726d"
      },
      "source": [
        "from google.colab import drive\n",
        "drive.mount('/content/drive')"
      ],
      "execution_count": null,
      "outputs": [
        {
          "output_type": "stream",
          "text": [
            "Mounted at /content/drive\n"
          ],
          "name": "stdout"
        }
      ]
    },
    {
      "cell_type": "code",
      "metadata": {
        "colab": {
          "resources": {
            "http://localhost:8080/nbextensions/google.colab/files.js": {
              "data": "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",
              "ok": true,
              "headers": [
                [
                  "content-type",
                  "application/javascript"
                ]
              ],
              "status": 200,
              "status_text": "OK"
            }
          },
          "base_uri": "https://localhost:8080/",
          "height": 96
        },
        "id": "X4AehTBoWCyw",
        "outputId": "3c670948-849e-4586-9bf5-b48123853949"
      },
      "source": [
        "from google.colab import files\n",
        "\n",
        "uploaded = files.upload()\n",
        "\n",
        "for fn in uploaded.keys():\n",
        "  print('User uploaded file \"{name}\" with length {length} bytes'.format(\n",
        "      name=fn, length=len(uploaded[fn])))"
      ],
      "execution_count": null,
      "outputs": [
        {
          "output_type": "display_data",
          "data": {
            "text/html": [
              "\n",
              "     <input type=\"file\" id=\"files-72553c1f-5924-4662-8efd-ba63528dad60\" name=\"files[]\" multiple disabled\n",
              "        style=\"border:none\" />\n",
              "     <output id=\"result-72553c1f-5924-4662-8efd-ba63528dad60\">\n",
              "      Upload widget is only available when the cell has been executed in the\n",
              "      current browser session. Please rerun this cell to enable.\n",
              "      </output>\n",
              "      <script src=\"/nbextensions/google.colab/files.js\"></script> "
            ],
            "text/plain": [
              "<IPython.core.display.HTML object>"
            ]
          },
          "metadata": {
            "tags": []
          }
        },
        {
          "output_type": "stream",
          "text": [
            "Saving kaggle.json to kaggle.json\n",
            "User uploaded file \"kaggle.json\" with length 77 bytes\n"
          ],
          "name": "stdout"
        }
      ]
    },
    {
      "cell_type": "code",
      "metadata": {
        "id": "tKd7zydvWjN5"
      },
      "source": [
        "import os\n",
        "os.environ['KAGGLE_CONFIG_DIR'] = \"/content\""
      ],
      "execution_count": null,
      "outputs": []
    },
    {
      "cell_type": "code",
      "metadata": {
        "colab": {
          "base_uri": "https://localhost:8080/"
        },
        "id": "--BiiCyoWo5L",
        "outputId": "1a9f9f76-d639-41fa-b255-b5915842b2ca"
      },
      "source": [
        "!kaggle datasets download -d iarunava/cell-images-for-detecting-malaria"
      ],
      "execution_count": null,
      "outputs": [
        {
          "output_type": "stream",
          "text": [
            "Warning: Your Kaggle API key is readable by other users on this system! To fix this, you can run 'chmod 600 /content/kaggle.json'\n",
            "Downloading cell-images-for-detecting-malaria.zip to /content\n",
            " 98% 659M/675M [00:08<00:00, 161MB/s]\n",
            "100% 675M/675M [00:08<00:00, 83.4MB/s]\n"
          ],
          "name": "stdout"
        }
      ]
    },
    {
      "cell_type": "code",
      "metadata": {
        "colab": {
          "base_uri": "https://localhost:8080/"
        },
        "id": "x3KkPtHgWtAd",
        "outputId": "040b242c-e021-419d-f7c8-82caa2342a10"
      },
      "source": [
        "!cp -v -r '/content/cell-images-for-detecting-malaria.zip' '/content/drive/MyDrive/Malaria'"
      ],
      "execution_count": null,
      "outputs": [
        {
          "output_type": "stream",
          "text": [
            "'/content/cell-images-for-detecting-malaria.zip' -> '/content/drive/MyDrive/Malaria/cell-images-for-detecting-malaria.zip'\n"
          ],
          "name": "stdout"
        }
      ]
    },
    {
      "cell_type": "code",
      "metadata": {
        "id": "xsyLSqM_W3UA"
      },
      "source": [
        "!unzip *.zip && rm -rf *.zip"
      ],
      "execution_count": null,
      "outputs": []
    },
    {
      "cell_type": "code",
      "metadata": {
        "id": "JhqJYEStpniq"
      },
      "source": [
        "!unzip '/content/drive/MyDrive/Malaria/cell-images-for-detecting-malaria.zip'"
      ],
      "execution_count": null,
      "outputs": []
    },
    {
      "cell_type": "markdown",
      "metadata": {
        "id": "Wovf3kO-XMyl"
      },
      "source": [
        "#**Preprocessing Data**"
      ]
    },
    {
      "cell_type": "code",
      "metadata": {
        "id": "iFsA3yhTXC_R"
      },
      "source": [
        "import glob\n",
        "import numpy as np\n",
        "from PIL import Image\n",
        "import cv2\n",
        "from tqdm import tqdm"
      ],
      "execution_count": null,
      "outputs": []
    },
    {
      "cell_type": "code",
      "metadata": {
        "colab": {
          "base_uri": "https://localhost:8080/"
        },
        "id": "QCdrfHBRXcJF",
        "outputId": "36b6889a-a73e-4ed4-f6a3-d77427477a63"
      },
      "source": [
        "PARASITIZED = glob.glob('/content/cell_images/Parasitized/*.png')\n",
        "UNINFECTED = glob.glob('/content/cell_images/Uninfected/*.png')\n",
        "\n",
        "print('PARASITIZED:',len(PARASITIZED[:3500]))\n",
        "print('UNINFECTED:', len(UNINFECTED[:3500]))"
      ],
      "execution_count": null,
      "outputs": [
        {
          "output_type": "stream",
          "text": [
            "PARASITIZED: 3500\n",
            "UNINFECTED: 3500\n"
          ],
          "name": "stdout"
        }
      ]
    },
    {
      "cell_type": "code",
      "metadata": {
        "id": "Ow1S7kpDYaAY"
      },
      "source": [
        "dataset = []\n",
        "label = []\n",
        "id = 0\n",
        "\n",
        "for img in PARASITIZED[:3500]:\n",
        "  image = cv2.imread(img)\n",
        "  image = Image.fromarray(image, 'RGB')\n",
        "  image = image.resize((150, 150))\n",
        "  dataset.append(np.array(image))\n",
        "  label.append(1)\n",
        "  id += 1\n",
        "  print('[*] ',id)"
      ],
      "execution_count": null,
      "outputs": []
    },
    {
      "cell_type": "code",
      "metadata": {
        "id": "i0-GIsTxZffH"
      },
      "source": [
        "id = 0\n",
        "\n",
        "for img in UNINFECTED[:3500]:\n",
        "  image = cv2.imread(img)\n",
        "  image = Image.fromarray(image, 'RGB')\n",
        "  image = image.resize((150, 150))\n",
        "  dataset.append(np.array(image))\n",
        "  label.append(0)\n",
        "  id += 1\n",
        "  print('[*] ',id)"
      ],
      "execution_count": null,
      "outputs": []
    },
    {
      "cell_type": "code",
      "metadata": {
        "colab": {
          "base_uri": "https://localhost:8080/"
        },
        "id": "X2YdIvwyaF9b",
        "outputId": "aa77469c-e517-43ca-f055-d07d44191196"
      },
      "source": [
        "print('Total Data:', len(dataset))"
      ],
      "execution_count": null,
      "outputs": [
        {
          "output_type": "stream",
          "text": [
            "Total Data: 7000\n"
          ],
          "name": "stdout"
        }
      ]
    },
    {
      "cell_type": "code",
      "metadata": {
        "id": "i0u8X121arbg"
      },
      "source": [
        "dataset = np.array(dataset)\n",
        "label = np.array(label)"
      ],
      "execution_count": null,
      "outputs": []
    },
    {
      "cell_type": "code",
      "metadata": {
        "id": "pCf80AJVb8ow"
      },
      "source": [
        "from sklearn.model_selection import train_test_split\n",
        "\n",
        "X_train, X_test, Y_train, Y_test = train_test_split(dataset, label, test_size = 0.1)"
      ],
      "execution_count": null,
      "outputs": []
    },
    {
      "cell_type": "code",
      "metadata": {
        "id": "BngHzD5cdU9m"
      },
      "source": [
        "from keras.utils import normalize\n",
        "\n",
        "X_train = normalize(X_train, axis = 1)\n",
        "X_test = normalize(X_test, axis = 1)"
      ],
      "execution_count": null,
      "outputs": []
    },
    {
      "cell_type": "markdown",
      "metadata": {
        "id": "yD7VSOQQeTDg"
      },
      "source": [
        "#**Model**"
      ]
    },
    {
      "cell_type": "code",
      "metadata": {
        "id": "o7OqHVkldgfQ"
      },
      "source": [
        "input = (150, 150, 3)\n",
        "kernel_s = (3, 3)\n",
        "padding = 'same'"
      ],
      "execution_count": null,
      "outputs": []
    },
    {
      "cell_type": "code",
      "metadata": {
        "id": "ZX_vlx_jebWf"
      },
      "source": [
        "from tensorflow.keras.models import Sequential\n",
        "from tensorflow.keras.layers import Dense\n",
        "from tensorflow.keras.layers import Conv2D\n",
        "from tensorflow.keras.layers import MaxPooling2D\n",
        "from tensorflow.keras.layers import Dropout\n",
        "from tensorflow.keras.layers import BatchNormalization\n",
        "from tensorflow.keras.layers import Flatten"
      ],
      "execution_count": null,
      "outputs": []
    },
    {
      "cell_type": "code",
      "metadata": {
        "id": "fuLYW8cxe4ru"
      },
      "source": [
        "model = Sequential()\n",
        "\n",
        "model.add(Conv2D(filters = 32, kernel_size=kernel_s, input_shape=input, padding=padding, activation='relu'))\n",
        "model.add(MaxPooling2D(pool_size=(2, 2)))\n",
        "\n",
        "model.add(Conv2D(filters = 32, kernel_size=kernel_s, padding=padding, activation='relu', kernel_initializer='he_uniform'))\n",
        "model.add(MaxPooling2D(pool_size=(2, 2)))\n",
        "model.add(Dropout(rate=0.15))\n",
        "\n",
        "model.add(Conv2D(filters = 64, kernel_size=kernel_s, padding=padding, activation='relu', kernel_initializer='he_uniform'))\n",
        "model.add(MaxPooling2D(pool_size=(2, 2)))\n",
        "\n",
        "model.add(Conv2D(filters = 64, kernel_size=kernel_s, padding=padding, activation='relu', kernel_initializer='he_uniform'))\n",
        "model.add(MaxPooling2D(pool_size=(2, 2)))\n",
        "model.add(Dropout(rate=0.15))\n",
        "\n",
        "model.add(Flatten())\n",
        "model.add(Dense(256, activation='relu'))\n",
        "model.add(Dropout(rate=0.35))\n",
        "\n",
        "model.add(Dense(1, activation='sigmoid'))"
      ],
      "execution_count": null,
      "outputs": []
    },
    {
      "cell_type": "code",
      "metadata": {
        "colab": {
          "base_uri": "https://localhost:8080/"
        },
        "id": "KLlCNrhtgjc0",
        "outputId": "87253a1e-9f4b-4847-c6fb-9461eee88f3d"
      },
      "source": [
        "model.summary()"
      ],
      "execution_count": null,
      "outputs": [
        {
          "output_type": "stream",
          "text": [
            "Model: \"sequential_1\"\n",
            "_________________________________________________________________\n",
            "Layer (type)                 Output Shape              Param #   \n",
            "=================================================================\n",
            "conv2d_4 (Conv2D)            (None, 150, 150, 32)      896       \n",
            "_________________________________________________________________\n",
            "max_pooling2d_4 (MaxPooling2 (None, 75, 75, 32)        0         \n",
            "_________________________________________________________________\n",
            "conv2d_5 (Conv2D)            (None, 75, 75, 32)        9248      \n",
            "_________________________________________________________________\n",
            "max_pooling2d_5 (MaxPooling2 (None, 37, 37, 32)        0         \n",
            "_________________________________________________________________\n",
            "dropout_3 (Dropout)          (None, 37, 37, 32)        0         \n",
            "_________________________________________________________________\n",
            "conv2d_6 (Conv2D)            (None, 37, 37, 64)        18496     \n",
            "_________________________________________________________________\n",
            "max_pooling2d_6 (MaxPooling2 (None, 18, 18, 64)        0         \n",
            "_________________________________________________________________\n",
            "conv2d_7 (Conv2D)            (None, 18, 18, 64)        36928     \n",
            "_________________________________________________________________\n",
            "max_pooling2d_7 (MaxPooling2 (None, 9, 9, 64)          0         \n",
            "_________________________________________________________________\n",
            "dropout_4 (Dropout)          (None, 9, 9, 64)          0         \n",
            "_________________________________________________________________\n",
            "flatten_1 (Flatten)          (None, 5184)              0         \n",
            "_________________________________________________________________\n",
            "dense_2 (Dense)              (None, 256)               1327360   \n",
            "_________________________________________________________________\n",
            "dropout_5 (Dropout)          (None, 256)               0         \n",
            "_________________________________________________________________\n",
            "dense_3 (Dense)              (None, 1)                 257       \n",
            "=================================================================\n",
            "Total params: 1,393,185\n",
            "Trainable params: 1,393,185\n",
            "Non-trainable params: 0\n",
            "_________________________________________________________________\n"
          ],
          "name": "stdout"
        }
      ]
    },
    {
      "cell_type": "code",
      "metadata": {
        "id": "uvjRVXsuglHW"
      },
      "source": [
        "model.compile(loss='binary_crossentropy', optimizer='adam', metrics=['accuracy'])"
      ],
      "execution_count": null,
      "outputs": []
    },
    {
      "cell_type": "code",
      "metadata": {
        "colab": {
          "base_uri": "https://localhost:8080/"
        },
        "id": "Y9LUUU0sgwCi",
        "outputId": "30c23c24-ad9c-48ee-e4e5-2deb64a43c5a"
      },
      "source": [
        "history = model.fit(X_train, Y_train, batch_size=64, verbose=1, epochs=54, validation_data=(X_test, Y_test), shuffle=False)"
      ],
      "execution_count": null,
      "outputs": [
        {
          "output_type": "stream",
          "text": [
            "Epoch 1/54\n",
            "99/99 [==============================] - 12s 44ms/step - loss: 0.6968 - accuracy: 0.5032 - val_loss: 0.6966 - val_accuracy: 0.5314\n",
            "Epoch 2/54\n",
            "99/99 [==============================] - 4s 37ms/step - loss: 0.6849 - accuracy: 0.5562 - val_loss: 0.6711 - val_accuracy: 0.5771\n",
            "Epoch 3/54\n",
            "99/99 [==============================] - 4s 37ms/step - loss: 0.6314 - accuracy: 0.6299 - val_loss: 0.2374 - val_accuracy: 0.9071\n",
            "Epoch 4/54\n",
            "99/99 [==============================] - 4s 37ms/step - loss: 0.2095 - accuracy: 0.9311 - val_loss: 0.1472 - val_accuracy: 0.9500\n",
            "Epoch 5/54\n",
            "99/99 [==============================] - 4s 36ms/step - loss: 0.1564 - accuracy: 0.9486 - val_loss: 0.1452 - val_accuracy: 0.9500\n",
            "Epoch 6/54\n",
            "99/99 [==============================] - 4s 37ms/step - loss: 0.1389 - accuracy: 0.9521 - val_loss: 0.1418 - val_accuracy: 0.9514\n",
            "Epoch 7/54\n",
            "99/99 [==============================] - 4s 37ms/step - loss: 0.1261 - accuracy: 0.9564 - val_loss: 0.1409 - val_accuracy: 0.9486\n",
            "Epoch 8/54\n",
            "99/99 [==============================] - 4s 37ms/step - loss: 0.1156 - accuracy: 0.9616 - val_loss: 0.1338 - val_accuracy: 0.9543\n",
            "Epoch 9/54\n",
            "99/99 [==============================] - 4s 37ms/step - loss: 0.1103 - accuracy: 0.9618 - val_loss: 0.1356 - val_accuracy: 0.9557\n",
            "Epoch 10/54\n",
            "99/99 [==============================] - 4s 37ms/step - loss: 0.1046 - accuracy: 0.9626 - val_loss: 0.1382 - val_accuracy: 0.9529\n",
            "Epoch 11/54\n",
            "99/99 [==============================] - 4s 37ms/step - loss: 0.0958 - accuracy: 0.9652 - val_loss: 0.1643 - val_accuracy: 0.9486\n",
            "Epoch 12/54\n",
            "99/99 [==============================] - 4s 37ms/step - loss: 0.0798 - accuracy: 0.9723 - val_loss: 0.1579 - val_accuracy: 0.9457\n",
            "Epoch 13/54\n",
            "99/99 [==============================] - 4s 37ms/step - loss: 0.0789 - accuracy: 0.9711 - val_loss: 0.1812 - val_accuracy: 0.9414\n",
            "Epoch 14/54\n",
            "99/99 [==============================] - 4s 37ms/step - loss: 0.0661 - accuracy: 0.9772 - val_loss: 0.1674 - val_accuracy: 0.9400\n",
            "Epoch 15/54\n",
            "99/99 [==============================] - 4s 37ms/step - loss: 0.0583 - accuracy: 0.9783 - val_loss: 0.1675 - val_accuracy: 0.9400\n",
            "Epoch 16/54\n",
            "99/99 [==============================] - 4s 37ms/step - loss: 0.0585 - accuracy: 0.9829 - val_loss: 0.2119 - val_accuracy: 0.9429\n",
            "Epoch 17/54\n",
            "99/99 [==============================] - 4s 37ms/step - loss: 0.0532 - accuracy: 0.9822 - val_loss: 0.1908 - val_accuracy: 0.9386\n",
            "Epoch 18/54\n",
            "99/99 [==============================] - 4s 37ms/step - loss: 0.0505 - accuracy: 0.9829 - val_loss: 0.2122 - val_accuracy: 0.9471\n",
            "Epoch 19/54\n",
            "99/99 [==============================] - 4s 36ms/step - loss: 0.0402 - accuracy: 0.9874 - val_loss: 0.2356 - val_accuracy: 0.9400\n",
            "Epoch 20/54\n",
            "99/99 [==============================] - 4s 36ms/step - loss: 0.0328 - accuracy: 0.9900 - val_loss: 0.2215 - val_accuracy: 0.9371\n",
            "Epoch 21/54\n",
            "99/99 [==============================] - 4s 36ms/step - loss: 0.0439 - accuracy: 0.9858 - val_loss: 0.2562 - val_accuracy: 0.9429\n",
            "Epoch 22/54\n",
            "99/99 [==============================] - 4s 37ms/step - loss: 0.0345 - accuracy: 0.9897 - val_loss: 0.2874 - val_accuracy: 0.9386\n",
            "Epoch 23/54\n",
            "99/99 [==============================] - 4s 37ms/step - loss: 0.0266 - accuracy: 0.9922 - val_loss: 0.3138 - val_accuracy: 0.9400\n",
            "Epoch 24/54\n",
            "99/99 [==============================] - 4s 36ms/step - loss: 0.0166 - accuracy: 0.9949 - val_loss: 0.2651 - val_accuracy: 0.9386\n",
            "Epoch 25/54\n",
            "99/99 [==============================] - 4s 37ms/step - loss: 0.0188 - accuracy: 0.9929 - val_loss: 0.3495 - val_accuracy: 0.9400\n",
            "Epoch 26/54\n",
            "99/99 [==============================] - 4s 37ms/step - loss: 0.0213 - accuracy: 0.9937 - val_loss: 0.3277 - val_accuracy: 0.9400\n",
            "Epoch 27/54\n",
            "99/99 [==============================] - 4s 37ms/step - loss: 0.0212 - accuracy: 0.9944 - val_loss: 0.3021 - val_accuracy: 0.9443\n",
            "Epoch 28/54\n",
            "99/99 [==============================] - 4s 36ms/step - loss: 0.0140 - accuracy: 0.9962 - val_loss: 0.3214 - val_accuracy: 0.9471\n",
            "Epoch 29/54\n",
            "99/99 [==============================] - 4s 37ms/step - loss: 0.0146 - accuracy: 0.9956 - val_loss: 0.3483 - val_accuracy: 0.9471\n",
            "Epoch 30/54\n",
            "99/99 [==============================] - 4s 37ms/step - loss: 0.0153 - accuracy: 0.9951 - val_loss: 0.3305 - val_accuracy: 0.9429\n",
            "Epoch 31/54\n",
            "99/99 [==============================] - 4s 37ms/step - loss: 0.0086 - accuracy: 0.9967 - val_loss: 0.3848 - val_accuracy: 0.9471\n",
            "Epoch 32/54\n",
            "99/99 [==============================] - 4s 37ms/step - loss: 0.0120 - accuracy: 0.9959 - val_loss: 0.3810 - val_accuracy: 0.9386\n",
            "Epoch 33/54\n",
            "99/99 [==============================] - 4s 37ms/step - loss: 0.0073 - accuracy: 0.9984 - val_loss: 0.3841 - val_accuracy: 0.9357\n",
            "Epoch 34/54\n",
            "99/99 [==============================] - 4s 37ms/step - loss: 0.0161 - accuracy: 0.9956 - val_loss: 0.4065 - val_accuracy: 0.9314\n",
            "Epoch 35/54\n",
            "99/99 [==============================] - 4s 37ms/step - loss: 0.0068 - accuracy: 0.9982 - val_loss: 0.3504 - val_accuracy: 0.9400\n",
            "Epoch 36/54\n",
            "99/99 [==============================] - 4s 37ms/step - loss: 0.0095 - accuracy: 0.9967 - val_loss: 0.4537 - val_accuracy: 0.9329\n",
            "Epoch 37/54\n",
            "99/99 [==============================] - 4s 37ms/step - loss: 0.0099 - accuracy: 0.9963 - val_loss: 0.3396 - val_accuracy: 0.9471\n",
            "Epoch 38/54\n",
            "99/99 [==============================] - 4s 37ms/step - loss: 0.0095 - accuracy: 0.9966 - val_loss: 0.3633 - val_accuracy: 0.9357\n",
            "Epoch 39/54\n",
            "99/99 [==============================] - 4s 37ms/step - loss: 0.0097 - accuracy: 0.9958 - val_loss: 0.4004 - val_accuracy: 0.9414\n",
            "Epoch 40/54\n",
            "99/99 [==============================] - 4s 37ms/step - loss: 0.0148 - accuracy: 0.9956 - val_loss: 0.4378 - val_accuracy: 0.9414\n",
            "Epoch 41/54\n",
            "99/99 [==============================] - 4s 37ms/step - loss: 0.0081 - accuracy: 0.9969 - val_loss: 0.4341 - val_accuracy: 0.9429\n",
            "Epoch 42/54\n",
            "99/99 [==============================] - 4s 37ms/step - loss: 0.0046 - accuracy: 0.9988 - val_loss: 0.4694 - val_accuracy: 0.9429\n",
            "Epoch 43/54\n",
            "99/99 [==============================] - 4s 36ms/step - loss: 0.0052 - accuracy: 0.9982 - val_loss: 0.3819 - val_accuracy: 0.9400\n",
            "Epoch 44/54\n",
            "99/99 [==============================] - 4s 36ms/step - loss: 0.0123 - accuracy: 0.9970 - val_loss: 0.4830 - val_accuracy: 0.9414\n",
            "Epoch 45/54\n",
            "99/99 [==============================] - 4s 37ms/step - loss: 0.0078 - accuracy: 0.9973 - val_loss: 0.4956 - val_accuracy: 0.9400\n",
            "Epoch 46/54\n",
            "99/99 [==============================] - 4s 37ms/step - loss: 0.0047 - accuracy: 0.9982 - val_loss: 0.4622 - val_accuracy: 0.9471\n",
            "Epoch 47/54\n",
            "99/99 [==============================] - 4s 37ms/step - loss: 0.0059 - accuracy: 0.9984 - val_loss: 0.4843 - val_accuracy: 0.9443\n",
            "Epoch 48/54\n",
            "99/99 [==============================] - 4s 37ms/step - loss: 0.0143 - accuracy: 0.9954 - val_loss: 0.4519 - val_accuracy: 0.9514\n",
            "Epoch 49/54\n",
            "99/99 [==============================] - 4s 36ms/step - loss: 0.0079 - accuracy: 0.9969 - val_loss: 0.4914 - val_accuracy: 0.9457\n",
            "Epoch 50/54\n",
            "99/99 [==============================] - 4s 37ms/step - loss: 0.0054 - accuracy: 0.9984 - val_loss: 0.3986 - val_accuracy: 0.9443\n",
            "Epoch 51/54\n",
            "99/99 [==============================] - 4s 36ms/step - loss: 0.0048 - accuracy: 0.9980 - val_loss: 0.4855 - val_accuracy: 0.9400\n",
            "Epoch 52/54\n",
            "99/99 [==============================] - 4s 38ms/step - loss: 0.0041 - accuracy: 0.9988 - val_loss: 0.5237 - val_accuracy: 0.9414\n",
            "Epoch 53/54\n",
            "99/99 [==============================] - 4s 37ms/step - loss: 0.0028 - accuracy: 0.9992 - val_loss: 0.5483 - val_accuracy: 0.9443\n",
            "Epoch 54/54\n",
            "99/99 [==============================] - 4s 37ms/step - loss: 0.0022 - accuracy: 0.9995 - val_loss: 0.5386 - val_accuracy: 0.9443\n"
          ],
          "name": "stdout"
        }
      ]
    },
    {
      "cell_type": "code",
      "metadata": {
        "id": "eMxn0qq4hZXs"
      },
      "source": [
        "model.save('/content/drive/MyDrive/Malaria/model.h5')"
      ],
      "execution_count": null,
      "outputs": []
    },
    {
      "cell_type": "code",
      "metadata": {
        "id": "1lDkJWu0q69R"
      },
      "source": [
        "model.save('model.h5')"
      ],
      "execution_count": null,
      "outputs": []
    },
    {
      "cell_type": "code",
      "metadata": {
        "colab": {
          "base_uri": "https://localhost:8080/",
          "height": 295
        },
        "id": "_6vp8zQAq8gf",
        "outputId": "1f877d4b-4070-4170-8ed4-b1a5324ad103"
      },
      "source": [
        "import matplotlib.pyplot as plt\n",
        "\n",
        "epochs = range(1, len(history.history['loss']) + 1)\n",
        "plt.plot(epochs, history.history['loss'], 'y', label='Training Loss')\n",
        "plt.plot(epochs, history.history['val_loss'], 'r', label='Validation Loss')\n",
        "plt.xlabel(\"Epochs\")\n",
        "plt.ylabel('Loss')\n",
        "plt.title(\"Losses During Training\")\n",
        "plt.legend()\n",
        "plt.show()"
      ],
      "execution_count": null,
      "outputs": [
        {
          "output_type": "display_data",
          "data": {
            "image/png": "[encoded data removed]",
            "text/plain": [
              "<Figure size 432x288 with 1 Axes>"
            ]
          },
          "metadata": {
            "tags": [],
            "needs_background": "light"
          }
        }
      ]
    },
    {
      "cell_type": "code",
      "metadata": {
        "colab": {
          "base_uri": "https://localhost:8080/",
          "height": 295
        },
        "id": "rlgAs3tSsdjO",
        "outputId": "a1132f15-5160-4db4-e2a1-7939e3e04cbd"
      },
      "source": [
        "epochs = range(1, len(history.history['accuracy']) + 1)\n",
        "plt.plot(epochs, history.history['accuracy'], 'y', label='Training Accuracy')\n",
        "plt.plot(epochs, history.history['val_accuracy'], 'r', label='Validation Accuracy')\n",
        "plt.xlabel(\"Epochs\")\n",
        "plt.ylabel('Accuracy')\n",
        "plt.title(\"Accuracy During Training\")\n",
        "plt.legend()\n",
        "plt.show()"
      ],
      "execution_count": null,
      "outputs": [
        {
          "output_type": "display_data",
          "data": {
            "image/png": "[encoded data removed]",
            "text/plain": [
              "<Figure size 432x288 with 1 Axes>"
            ]
          },
          "metadata": {
            "tags": [],
            "needs_background": "light"
          }
        }
      ]
    },
    {
      "cell_type": "code",
      "metadata": {
        "colab": {
          "base_uri": "https://localhost:8080/"
        },
        "id": "1788ekB0s08O",
        "outputId": "3b833583-a613-48f8-b1ec-d83ab3712f3a"
      },
      "source": [
        "_, acc = model.evaluate(X_test, Y_test)"
      ],
      "execution_count": null,
      "outputs": [
        {
          "output_type": "stream",
          "text": [
            "22/22 [==============================] - 0s 9ms/step - loss: 0.5386 - accuracy: 0.9443\n"
          ],
          "name": "stdout"
        }
      ]
    },
    {
      "cell_type": "code",
      "metadata": {
        "colab": {
          "base_uri": "https://localhost:8080/"
        },
        "id": "8Ad20ISAuEnM",
        "outputId": "61117a16-2f68-467f-f016-e719cfb6a769"
      },
      "source": [
        "print(\"Accuracy = {}%\".format(round((acc * 100), 3)))"
      ],
      "execution_count": null,
      "outputs": [
        {
          "output_type": "stream",
          "text": [
            "Accuracy = 94.429%\n"
          ],
          "name": "stdout"
        }
      ]
    },
    {
      "cell_type": "code",
      "metadata": {
        "colab": {
          "base_uri": "https://localhost:8080/"
        },
        "id": "FaWtMRBZuvGn",
        "outputId": "dc89a2e1-6586-4c03-9968-25cf914ff94f"
      },
      "source": [
        "len(X_test)"
      ],
      "execution_count": null,
      "outputs": [
        {
          "output_type": "execute_result",
          "data": {
            "text/plain": [
              "700"
            ]
          },
          "metadata": {
            "tags": []
          },
          "execution_count": 42
        }
      ]
    },
    {
      "cell_type": "code",
      "metadata": {
        "colab": {
          "base_uri": "https://localhost:8080/",
          "height": 286
        },
        "id": "9cBl41mquMJ1",
        "outputId": "67751772-0191-4164-c8db-4531d15cdda1"
      },
      "source": [
        "n = 690\n",
        "\n",
        "img = X_test[n]\n",
        "plt.imshow(img)\n",
        "\n",
        "input_img = np.expand_dims(img, axis=0)\n",
        "\n",
        "prediction = model.predict(input_img)\n",
        "prediction = int(prediction)\n",
        "if prediction == 0:\n",
        "  print(\"The Cell Is Not Infected So The Person Has Not Malaria.\")\n",
        "elif prediction == 1:\n",
        "  print(\"The Cell Is Infected So The Person Has Malaria.\")\n",
        "else:\n",
        "  pass"
      ],
      "execution_count": null,
      "outputs": [
        {
          "output_type": "stream",
          "text": [
            "The Cell Is Not Infected So The Person Has Not Malaria.\n"
          ],
          "name": "stdout"
        },
        {
          "output_type": "display_data",
          "data": {
            "image/png": "[encoded data removed]",
            "text/plain": [
              "<Figure size 432x288 with 1 Axes>"
            ]
          },
          "metadata": {
            "tags": [],
            "needs_background": "light"
          }
        }
      ]
    },
    {
      "cell_type": "code",
      "metadata": {
        "colab": {
          "base_uri": "https://localhost:8080/",
          "height": 286
        },
        "id": "QdzxI47LubC1",
        "outputId": "512d1324-01c8-4702-c3d5-6d1eba086698"
      },
      "source": [
        "n = 190\n",
        "\n",
        "img = X_test[n]\n",
        "plt.imshow(img)\n",
        "\n",
        "input_img = np.expand_dims(img, axis=0)\n",
        "\n",
        "prediction = model.predict(input_img)\n",
        "prediction = int(prediction)\n",
        "if prediction == 0:\n",
        "  print(\"The Cell Is Not Infected So The Person Has Not Malaria.\")\n",
        "elif prediction == 1:\n",
        "  print(\"The Cell Is Infected So The Person Has Malaria.\")\n",
        "else:\n",
        "  pass"
      ],
      "execution_count": null,
      "outputs": [
        {
          "output_type": "stream",
          "text": [
            "The Cell Is Infected So The Person Has Malaria.\n"
          ],
          "name": "stdout"
        },
        {
          "output_type": "display_data",
          "data": {
            "image/png": "[encoded data removed]",
            "text/plain": [
              "<Figure size 432x288 with 1 Axes>"
            ]
          },
          "metadata": {
            "tags": [],
            "needs_background": "light"
          }
        }
      ]
    },
    {
      "cell_type": "code",
      "metadata": {
        "id": "Ait42I_JvLjj"
      },
      "source": [],
      "execution_count": null,
      "outputs": []
    }
  ]
}